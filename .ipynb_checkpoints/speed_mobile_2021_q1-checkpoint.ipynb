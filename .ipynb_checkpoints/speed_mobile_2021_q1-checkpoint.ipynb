{
 "cells": [
  {
   "cell_type": "markdown",
   "metadata": {},
   "source": [
    "# Analyzing download speeds in All U.S. counties using Python"
   ]
  },
  {
   "cell_type": "markdown",
   "metadata": {},
   "source": [
    "In this tutorial I will talk about how to:\n",
    "\n",
    "    * Download the Ookla open dataset\n",
    "    * Geocode the tiles to counties\n",
    "    * Make a table of the top and bottom 20 counties by download speed\n",
    "    * Map the counties\n",
    "\n",
    "There are two main ways to join these tiles to another geographic dataset: quadkeys and spatial joins. This tutorial will use the spatial join approach."
   ]
  },
  {
   "cell_type": "code",
   "execution_count": 1,
   "metadata": {},
   "outputs": [],
   "source": [
    "%matplotlib inline\n",
    "\n",
    "from datetime import datetime\n",
    "\n",
    "import geopandas as gp\n",
    "import matplotlib\n",
    "import matplotlib.pyplot as plt\n",
    "import pandas as pd\n",
    "import numpy as np\n",
    "\n",
    "from shapely.geometry import Point\n",
    "from adjustText import adjust_text\n",
    "from pyathena import connect\n",
    "import contextily as ctx\n",
    "import time\n",
    "import boto3\n",
    "import pandas as pd\n",
    "import io"
   ]
  },
  {
   "cell_type": "markdown",
   "metadata": {},
   "source": [
    "#### Get data from athena"
   ]
  },
  {
   "cell_type": "code",
   "execution_count": 2,
   "metadata": {},
   "outputs": [],
   "source": [
    "class QueryAthena:\n",
    "\n",
    "    def __init__(self, query, database):\n",
    "        self.database = database\n",
    "        self.folder = 'athena-output/'\n",
    "        self.bucket = 'uiuc-research-paper'\n",
    "        self.s3_output =  's3://' + self.bucket + '/' + self.folder\n",
    "        self.region_name = 'us-east-2'\n",
    "        self.query = query\n",
    "\n",
    "    def load_conf(self, q):\n",
    "        try:\n",
    "            self.client = boto3.client('athena', \n",
    "                              region_name = self.region_name)\n",
    "            response = self.client.start_query_execution(\n",
    "                QueryString = q,\n",
    "                    QueryExecutionContext={\n",
    "                    'Database': self.database\n",
    "                    },\n",
    "                    ResultConfiguration={\n",
    "                    'OutputLocation': self.s3_output,\n",
    "                    }\n",
    "            )\n",
    "            self.filename = response['QueryExecutionId']\n",
    "            print('Execution ID: ' + response['QueryExecutionId'])\n",
    "\n",
    "        except Exception as e:\n",
    "            print(e)\n",
    "        return response                \n",
    "\n",
    "    def run_query(self):\n",
    "        queries = [self.query]\n",
    "        for q in queries:\n",
    "            res = self.load_conf(q)\n",
    "        try:              \n",
    "            query_status = None\n",
    "            while query_status == 'QUEUED' or query_status == 'RUNNING' or query_status is None:\n",
    "                query_status = self.client.get_query_execution(QueryExecutionId=res[\"QueryExecutionId\"])['QueryExecution']['Status']['State']\n",
    "                print(query_status)\n",
    "                if query_status == 'FAILED' or query_status == 'CANCELLED':\n",
    "                    raise Exception('Athena query with the string \"{}\" failed or was cancelled'.format(self.query))\n",
    "                time.sleep(10)\n",
    "            print('Query \"{}\" finished.'.format(self.query))\n",
    "\n",
    "            df = self.obtain_data()\n",
    "            return df\n",
    "\n",
    "        except Exception as e:\n",
    "            print(e)      \n",
    "\n",
    "    def obtain_data(self):\n",
    "        try:\n",
    "            self.resource = boto3.resource('s3', \n",
    "                                  region_name = self.region_name)\n",
    "\n",
    "            response = self.resource \\\n",
    "            .Bucket(self.bucket) \\\n",
    "            .Object(key= self.folder + self.filename + '.csv') \\\n",
    "            .get()\n",
    "\n",
    "            return pd.read_csv(io.BytesIO(response['Body'].read()), encoding='utf8')   \n",
    "        except Exception as e:\n",
    "            print(e)  "
   ]
  },
  {
   "cell_type": "code",
   "execution_count": null,
   "metadata": {},
   "outputs": [
    {
     "name": "stdout",
     "output_type": "stream",
     "text": [
      "Execution ID: 5569e93a-12e5-4188-b2fc-565b1cfb74df\n",
      "QUEUED\n",
      "SUCCEEDED\n",
      "Query \"SELECT avg_u_kbps, avg_d_kbps, geoid, namelsad, tests FROM country_wide_download_speed_mobile_2021_q1\" finished.\n"
     ]
    }
   ],
   "source": [
    "query = \"SELECT avg_u_kbps, avg_d_kbps, geoid, namelsad, tests FROM country_wide_download_speed_mobile_2021_q1\"\n",
    "qa = QueryAthena(query=query, database='ookla')\n",
    "tiles_in_ky_counties = qa.run_query()"
   ]
  },
  {
   "cell_type": "code",
   "execution_count": null,
   "metadata": {},
   "outputs": [],
   "source": [
    "# convert to Mbps for easier reading\n",
    "tiles_in_ky_counties['avg_d_mbps'] = tiles_in_ky_counties['avg_d_kbps'] / 1000\n",
    "tiles_in_ky_counties['avg_u_mbps'] = tiles_in_ky_counties['avg_u_kbps'] / 1000"
   ]
  },
  {
   "cell_type": "code",
   "execution_count": null,
   "metadata": {},
   "outputs": [],
   "source": [
    "tiles_in_ky_counties.head()"
   ]
  },
  {
   "cell_type": "markdown",
   "metadata": {},
   "source": [
    "---\n",
    "\n",
    "## Make a table of the top 20 and bottom 20 counties\n",
    "\n",
    "Next we can make a summary table of just the best and worst counties by download speed. We’ll require that counties have at least 50 tests so that the averages are more reliable."
   ]
  },
  {
   "cell_type": "code",
   "execution_count": null,
   "metadata": {
    "scrolled": true
   },
   "outputs": [],
   "source": [
    "# def weighted_mean(group, avg_name, weight_name):\n",
    "#     \"\"\" http://stackoverflow.com/questions/10951341/pandas-dataframe-aggregate-function-using-multiple-columns\n",
    "#     In rare instance, we may not have weights, so just return the mean. Customize this if your business case\n",
    "#     should return otherwise.\n",
    "#     \"\"\"\n",
    "#     d = group[avg_name]\n",
    "#     w = group[weight_name]\n",
    "#     try:\n",
    "#         return (d * w).sum() / w.sum()\n",
    "#     except ZeroDivisionError:\n",
    "#         return d.mean()\n",
    "    \n",
    "county_stats = (\n",
    "    tiles_in_ky_counties.groupby([\"geoid\", \"namelsad\"])\n",
    "    .apply(\n",
    "        lambda x: pd.Series(\n",
    "            {\"avg_d_mbps_wt\": np.average(x[\"avg_d_mbps\"], weights=x[\"tests\"])}\n",
    "        )\n",
    "    )\n",
    "    .reset_index()\n",
    "    .merge(\n",
    "        tiles_in_ky_counties.groupby([\"geoid\", \"namelsad\"])\n",
    "        .agg(tests=(\"tests\", \"sum\"))\n",
    "        .reset_index(),\n",
    "        on=[\"geoid\", \"namelsad\"],\n",
    "    )\n",
    ")"
   ]
  },
  {
   "cell_type": "code",
   "execution_count": null,
   "metadata": {},
   "outputs": [],
   "source": [
    "county_stats.head()"
   ]
  },
  {
   "cell_type": "code",
   "execution_count": null,
   "metadata": {},
   "outputs": [],
   "source": [
    "SAMPLE_TAKEN = 20\n",
    "\n",
    "\n",
    "table_stats = (\n",
    "    county_stats.loc[county_stats[\"tests\"] >= 50]\n",
    "    .nlargest(SAMPLE_TAKEN, \"avg_d_mbps_wt\")\n",
    "    .append(\n",
    "        county_stats.loc[county_stats[\"tests\"] >= 50].nsmallest(SAMPLE_TAKEN, \"avg_d_mbps_wt\")\n",
    "    )\n",
    "    .sort_values(\"avg_d_mbps_wt\", ascending=False)\n",
    "    .round(2) # round to 2 decimal places for easier reading\n",
    ")"
   ]
  },
  {
   "cell_type": "code",
   "execution_count": null,
   "metadata": {},
   "outputs": [],
   "source": [
    "header = [\"GEOID\", \"County\", \"Avg download speed (Mbps)\", \"Tests\"]\n",
    "\n",
    "table_stats.rename(columns=dict(zip(table_stats.columns, header)))"
   ]
  },
  {
   "cell_type": "markdown",
   "metadata": {},
   "source": [
    "---"
   ]
  },
  {
   "cell_type": "markdown",
   "metadata": {},
   "source": [
    "## Map the counties\n",
    "The table is good for a quick glance at overall patterns (what are the overall maxima and minima? where is the fastest speed?) but unless you’re already familiar with these areas it can be hard to picture where they are on a map. To go along with the table we can produce a quick choropleth map that will help give a more visual representation.\n",
    "\n",
    "We can join our county statistics table to the basemap (remember, we already got rid of the geometry from that county statistics table). I’m also creating a categorical variable from the continuous download speed because people aren’t great at reading continuous color schemes. People can read discrete legends much more easily, with 7 categories maximum (this can depend on the situation, though).\n",
    "\n",
    "One thing that helps people orient themselves on a map is including major place names. The census FTP site makes it fairly easy to get a quick list!"
   ]
  },
  {
   "cell_type": "code",
   "execution_count": null,
   "metadata": {},
   "outputs": [],
   "source": [
    "def quarter_start(year: int, q: int) -> datetime:\n",
    "    if not 1 <= q <= 4:\n",
    "        raise ValueError(\"Quarter must be within [1, 2, 3, 4]\")\n",
    "\n",
    "    month = [1, 4, 7, 10]\n",
    "    return datetime(year, month[q - 1], 1)\n",
    "\n",
    "\n",
    "def get_tile_url(service_type: str, year: int, q: int) -> str:\n",
    "    dt = quarter_start(year, q)\n",
    "\n",
    "    base_url = \"https://ookla-open-data.s3-us-west-2.amazonaws.com/shapefiles/performance\"\n",
    "    url = f\"{base_url}/type%3D{service_type}/year%3D{dt:%Y}/quarter%3D{q}/{dt:%Y-%m-%d}_performance_fixed_tiles.zip\"\n",
    "    return url"
   ]
  },
  {
   "cell_type": "markdown",
   "metadata": {},
   "source": [
    "### https://www.nrcs.usda.gov/wps/portal/nrcs/detail/?cid=nrcs143_013696"
   ]
  },
  {
   "cell_type": "code",
   "execution_count": null,
   "metadata": {},
   "outputs": [],
   "source": [
    "county_url = \"https://www2.census.gov/geo/tiger/TIGER2019/COUNTY/tl_2019_us_county.zip\" \n",
    "counties = gp.read_file(county_url)\n",
    "# filter out the Kentucky fips code and reproject to match the tiles\n",
    "# ky_counties = counties.loc[counties['STATEFP'] == '21'].to_crs(4326)\n",
    "ky_counties = counties.to_crs(4326)\n",
    "ky_counties['geoid'] = ky_counties['GEOID'].astype(int)\n",
    "ky_counties = ky_counties[ky_counties.STATEFP != '02'] #阿拉斯加 ALASKA\n",
    "ky_counties = ky_counties[ky_counties.STATEFP != '15'] #夏威夷 HAWAII\n",
    "ky_counties = ky_counties[ky_counties.STATEFP != '78'] #维京群岛 VIRGIN ISLANDS\n",
    "ky_counties = ky_counties[ky_counties.STATEFP != '72'] #波多黎各 \tPUERTO RICO\n",
    "ky_counties = ky_counties[ky_counties.STATEFP != '69'] #北马里亚纳群岛  Northern Mariana Islands\n",
    "ky_counties = ky_counties[ky_counties.STATEFP != '66'] #关岛 GUAM\n",
    "ky_counties = ky_counties[ky_counties.STATEFP != '60'] #美属萨摩亚 AMERICAN SAMOA"
   ]
  },
  {
   "cell_type": "code",
   "execution_count": null,
   "metadata": {},
   "outputs": [],
   "source": [
    "ky_counties"
   ]
  },
  {
   "cell_type": "code",
   "execution_count": null,
   "metadata": {},
   "outputs": [],
   "source": [
    "county_data = ky_counties[['geoid', 'geometry']].merge(county_stats, on='geoid').to_crs(26916)"
   ]
  },
  {
   "cell_type": "code",
   "execution_count": null,
   "metadata": {},
   "outputs": [],
   "source": [
    "labels = [\"0 to 2 Mbps\", \"2 to 5 Mbps\", \"5 to 10 Mbps\", \"10 to 20 Mbps\", \"20 to 50 Mbps\", \"50 to 200 Mbps\"]\n",
    "\n",
    "county_data['group'] = pd.cut(\n",
    "    county_data.avg_d_mbps_wt, \n",
    "    (0, 2, 5, 10, 20, 50,200), \n",
    "    right=False, \n",
    "    labels = labels\n",
    ")"
   ]
  },
  {
   "cell_type": "code",
   "execution_count": null,
   "metadata": {},
   "outputs": [],
   "source": [
    "county_data = county_data.dropna(axis=0).sort_values(by='group',ascending=False).reset_index()\n",
    "# county_data = county_data.to_crs(epsg=3857)"
   ]
  },
  {
   "cell_type": "code",
   "execution_count": null,
   "metadata": {},
   "outputs": [],
   "source": [
    "# add place labels \n",
    "#ky_places = gp.read_file(\"ftp://ftp2.census.gov/geo/tiger/TIGER2019/PLACE/tl_2019_21_place.zip\")"
   ]
  },
  {
   "cell_type": "code",
   "execution_count": null,
   "metadata": {},
   "outputs": [],
   "source": [
    "#ky_places = ky_places.loc[ky_places['PCICBSA'] >= \"Y\"].sample(15, random_state=1).to_crs(26916)\n",
    "#ky_places[\"centroid\"] = ky_places[\"geometry\"].centroid\n",
    "#ky_places.set_geometry(\"centroid\", inplace = True)"
   ]
  },
  {
   "cell_type": "code",
   "execution_count": null,
   "metadata": {},
   "outputs": [],
   "source": [
    "\n",
    "fig, ax = plt.subplots(1, figsize=(20, 20))\n",
    "\n",
    "\n",
    "plot_map = county_data.plot(\n",
    "    column=\"group\", cmap=\"coolwarm\", ax=ax, legend=True\n",
    ")\n",
    "\n",
    "# ctx.add_basemap(plot_map)\n",
    "\n",
    "ax.axis(\"off\")\n",
    "leg = ax.get_legend()\n",
    "# print(leg)\n",
    "leg.set_bbox_to_anchor((1.15, 0.3))\n",
    "leg.set_title(\"Mean download speed (Mbps)\\nin U.S. Counties\")\n",
    "\n",
    "# texts = []\n",
    "# for x, y, label in zip(ky_places.geometry.x, ky_places.geometry.y, ky_places[\"NAME\"]):\n",
    "#     texts.append(plt.text(x, y, label, fontsize=10, fontweight=\"bold\", ha=\"left\"))\n",
    "\n",
    "# adjust_text(\n",
    "#     texts,\n",
    "#     force_points=0.3,\n",
    "#     force_text=0.8,\n",
    "#     expand_points=(1, 1),\n",
    "#     expand_text=(1, 1),\n",
    "#     arrowprops=dict(arrowstyle=\"-\", color=\"black\", lw=0.5),\n",
    "# )"
   ]
  },
  {
   "cell_type": "code",
   "execution_count": null,
   "metadata": {},
   "outputs": [],
   "source": []
  }
 ],
 "metadata": {
  "kernelspec": {
   "display_name": "Python 3",
   "language": "python",
   "name": "python3"
  },
  "language_info": {
   "codemirror_mode": {
    "name": "ipython",
    "version": 3
   },
   "file_extension": ".py",
   "mimetype": "text/x-python",
   "name": "python",
   "nbconvert_exporter": "python",
   "pygments_lexer": "ipython3",
   "version": "3.7.7"
  }
 },
 "nbformat": 4,
 "nbformat_minor": 4
}
